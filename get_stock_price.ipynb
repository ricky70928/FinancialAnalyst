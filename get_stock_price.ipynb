{
 "cells": [
  {
   "cell_type": "code",
   "execution_count": 1,
   "metadata": {},
   "outputs": [],
   "source": [
    "import requests\n",
    "import pandas as pd"
   ]
  },
  {
   "cell_type": "code",
   "execution_count": 2,
   "metadata": {},
   "outputs": [],
   "source": [
    "date = '20200109'\n",
    "data_type = 'json'"
   ]
  },
  {
   "cell_type": "code",
   "execution_count": 3,
   "metadata": {},
   "outputs": [],
   "source": [
    "url = 'https://www.twse.com.tw/exchangeReport/MI_INDEX?response=' + data_type + '&date=' + date + '&type=ALLBUT0999&_=1578624965865'"
   ]
  },
  {
   "cell_type": "code",
   "execution_count": 4,
   "metadata": {},
   "outputs": [
    {
     "data": {
      "text/plain": [
       "'https://www.twse.com.tw/exchangeReport/MI_INDEX?response=json&date=20200109&type=ALLBUT0999&_=1578624965865'"
      ]
     },
     "execution_count": 4,
     "metadata": {},
     "output_type": "execute_result"
    }
   ],
   "source": [
    "url"
   ]
  },
  {
   "cell_type": "code",
   "execution_count": 5,
   "metadata": {},
   "outputs": [],
   "source": [
    "resp = requests.get(url)"
   ]
  },
  {
   "cell_type": "code",
   "execution_count": 6,
   "metadata": {},
   "outputs": [],
   "source": [
    "all_data = resp.json()"
   ]
  },
  {
   "cell_type": "code",
   "execution_count": 7,
   "metadata": {},
   "outputs": [
    {
     "data": {
      "text/plain": [
       "1111"
      ]
     },
     "execution_count": 7,
     "metadata": {},
     "output_type": "execute_result"
    }
   ],
   "source": [
    "len(all_data['data9'])"
   ]
  },
  {
   "cell_type": "code",
   "execution_count": 8,
   "metadata": {},
   "outputs": [
    {
     "name": "stdout",
     "output_type": "stream",
     "text": [
      "1111\n"
     ]
    }
   ],
   "source": [
    "element_length = 0\n",
    "# Get stock info location\n",
    "for data in all_data:\n",
    "    if len(all_data[data]) > element_length:\n",
    "        element_length = len(all_data[data])\n",
    "        element_name = data\n",
    "\n",
    "print(element_length)"
   ]
  },
  {
   "cell_type": "code",
   "execution_count": 9,
   "metadata": {},
   "outputs": [],
   "source": [
    "all_stock_price = all_data[element_name]"
   ]
  },
  {
   "cell_type": "code",
   "execution_count": 10,
   "metadata": {},
   "outputs": [],
   "source": [
    "number_of_column = len(all_stock_price[0])"
   ]
  },
  {
   "cell_type": "code",
   "execution_count": 11,
   "metadata": {},
   "outputs": [],
   "source": [
    "for data in all_data:\n",
    "    if len(all_data[data]) == number_of_column:\n",
    "        element_length = len(all_data[data])\n",
    "        element_name = data"
   ]
  },
  {
   "cell_type": "code",
   "execution_count": 12,
   "metadata": {},
   "outputs": [],
   "source": [
    "column_name = all_data[element_name]"
   ]
  },
  {
   "cell_type": "code",
   "execution_count": 16,
   "metadata": {},
   "outputs": [],
   "source": [
    "dfs = pd.DataFrame(data=all_stock_price, columns=column_name)"
   ]
  },
  {
   "cell_type": "code",
   "execution_count": 17,
   "metadata": {},
   "outputs": [
    {
     "data": {
      "text/html": [
       "<div>\n",
       "<style scoped>\n",
       "    .dataframe tbody tr th:only-of-type {\n",
       "        vertical-align: middle;\n",
       "    }\n",
       "\n",
       "    .dataframe tbody tr th {\n",
       "        vertical-align: top;\n",
       "    }\n",
       "\n",
       "    .dataframe thead th {\n",
       "        text-align: right;\n",
       "    }\n",
       "</style>\n",
       "<table border=\"1\" class=\"dataframe\">\n",
       "  <thead>\n",
       "    <tr style=\"text-align: right;\">\n",
       "      <th></th>\n",
       "      <th>證券代號</th>\n",
       "      <th>證券名稱</th>\n",
       "      <th>成交股數</th>\n",
       "      <th>成交筆數</th>\n",
       "      <th>成交金額</th>\n",
       "      <th>開盤價</th>\n",
       "      <th>最高價</th>\n",
       "      <th>最低價</th>\n",
       "      <th>收盤價</th>\n",
       "      <th>漲跌(+/-)</th>\n",
       "      <th>漲跌價差</th>\n",
       "      <th>最後揭示買價</th>\n",
       "      <th>最後揭示買量</th>\n",
       "      <th>最後揭示賣價</th>\n",
       "      <th>最後揭示賣量</th>\n",
       "      <th>本益比</th>\n",
       "    </tr>\n",
       "  </thead>\n",
       "  <tbody>\n",
       "    <tr>\n",
       "      <th>0</th>\n",
       "      <td>0050</td>\n",
       "      <td>元大台灣50</td>\n",
       "      <td>7,163,943</td>\n",
       "      <td>3,879</td>\n",
       "      <td>693,086,421</td>\n",
       "      <td>96.30</td>\n",
       "      <td>97.10</td>\n",
       "      <td>96.30</td>\n",
       "      <td>96.95</td>\n",
       "      <td>&lt;p style= color:red&gt;+&lt;/p&gt;</td>\n",
       "      <td>1.30</td>\n",
       "      <td>96.95</td>\n",
       "      <td>20</td>\n",
       "      <td>97.00</td>\n",
       "      <td>234</td>\n",
       "      <td>0.00</td>\n",
       "    </tr>\n",
       "    <tr>\n",
       "      <th>1</th>\n",
       "      <td>0051</td>\n",
       "      <td>元大中型100</td>\n",
       "      <td>39,300</td>\n",
       "      <td>26</td>\n",
       "      <td>1,375,250</td>\n",
       "      <td>34.71</td>\n",
       "      <td>35.06</td>\n",
       "      <td>34.71</td>\n",
       "      <td>34.95</td>\n",
       "      <td>&lt;p style= color:red&gt;+&lt;/p&gt;</td>\n",
       "      <td>0.26</td>\n",
       "      <td>34.95</td>\n",
       "      <td>16</td>\n",
       "      <td>35.04</td>\n",
       "      <td>2</td>\n",
       "      <td>0.00</td>\n",
       "    </tr>\n",
       "    <tr>\n",
       "      <th>2</th>\n",
       "      <td>0052</td>\n",
       "      <td>富邦科技</td>\n",
       "      <td>127,110</td>\n",
       "      <td>36</td>\n",
       "      <td>9,216,645</td>\n",
       "      <td>72.20</td>\n",
       "      <td>72.70</td>\n",
       "      <td>72.00</td>\n",
       "      <td>72.45</td>\n",
       "      <td>&lt;p style= color:red&gt;+&lt;/p&gt;</td>\n",
       "      <td>1.20</td>\n",
       "      <td>72.50</td>\n",
       "      <td>2</td>\n",
       "      <td>72.65</td>\n",
       "      <td>1</td>\n",
       "      <td>0.00</td>\n",
       "    </tr>\n",
       "    <tr>\n",
       "      <th>3</th>\n",
       "      <td>0053</td>\n",
       "      <td>元大電子</td>\n",
       "      <td>17,000</td>\n",
       "      <td>7</td>\n",
       "      <td>715,360</td>\n",
       "      <td>41.90</td>\n",
       "      <td>42.18</td>\n",
       "      <td>41.90</td>\n",
       "      <td>42.18</td>\n",
       "      <td>&lt;p style= color:red&gt;+&lt;/p&gt;</td>\n",
       "      <td>0.57</td>\n",
       "      <td>42.03</td>\n",
       "      <td>15</td>\n",
       "      <td>42.18</td>\n",
       "      <td>1</td>\n",
       "      <td>0.00</td>\n",
       "    </tr>\n",
       "    <tr>\n",
       "      <th>4</th>\n",
       "      <td>0054</td>\n",
       "      <td>元大台商50</td>\n",
       "      <td>0</td>\n",
       "      <td>0</td>\n",
       "      <td>0</td>\n",
       "      <td>--</td>\n",
       "      <td>--</td>\n",
       "      <td>--</td>\n",
       "      <td>--</td>\n",
       "      <td></td>\n",
       "      <td>0.00</td>\n",
       "      <td>24.35</td>\n",
       "      <td>20</td>\n",
       "      <td>24.51</td>\n",
       "      <td>3</td>\n",
       "      <td>0.00</td>\n",
       "    </tr>\n",
       "    <tr>\n",
       "      <th>...</th>\n",
       "      <td>...</td>\n",
       "      <td>...</td>\n",
       "      <td>...</td>\n",
       "      <td>...</td>\n",
       "      <td>...</td>\n",
       "      <td>...</td>\n",
       "      <td>...</td>\n",
       "      <td>...</td>\n",
       "      <td>...</td>\n",
       "      <td>...</td>\n",
       "      <td>...</td>\n",
       "      <td>...</td>\n",
       "      <td>...</td>\n",
       "      <td>...</td>\n",
       "      <td>...</td>\n",
       "      <td>...</td>\n",
       "    </tr>\n",
       "    <tr>\n",
       "      <th>1106</th>\n",
       "      <td>9944</td>\n",
       "      <td>新麗</td>\n",
       "      <td>85,999</td>\n",
       "      <td>65</td>\n",
       "      <td>1,534,031</td>\n",
       "      <td>17.70</td>\n",
       "      <td>18.00</td>\n",
       "      <td>17.70</td>\n",
       "      <td>17.70</td>\n",
       "      <td>&lt;p style= color:red&gt;+&lt;/p&gt;</td>\n",
       "      <td>0.05</td>\n",
       "      <td>17.70</td>\n",
       "      <td>26</td>\n",
       "      <td>17.85</td>\n",
       "      <td>2</td>\n",
       "      <td>0.00</td>\n",
       "    </tr>\n",
       "    <tr>\n",
       "      <th>1107</th>\n",
       "      <td>9945</td>\n",
       "      <td>潤泰新</td>\n",
       "      <td>967,122</td>\n",
       "      <td>630</td>\n",
       "      <td>43,112,974</td>\n",
       "      <td>44.25</td>\n",
       "      <td>44.75</td>\n",
       "      <td>44.25</td>\n",
       "      <td>44.65</td>\n",
       "      <td>&lt;p style= color:red&gt;+&lt;/p&gt;</td>\n",
       "      <td>0.55</td>\n",
       "      <td>44.60</td>\n",
       "      <td>22</td>\n",
       "      <td>44.65</td>\n",
       "      <td>7</td>\n",
       "      <td>4.12</td>\n",
       "    </tr>\n",
       "    <tr>\n",
       "      <th>1108</th>\n",
       "      <td>9946</td>\n",
       "      <td>三發地產</td>\n",
       "      <td>1,169,931</td>\n",
       "      <td>417</td>\n",
       "      <td>31,838,487</td>\n",
       "      <td>27.30</td>\n",
       "      <td>27.40</td>\n",
       "      <td>27.10</td>\n",
       "      <td>27.20</td>\n",
       "      <td>&lt;p style= color:red&gt;+&lt;/p&gt;</td>\n",
       "      <td>0.20</td>\n",
       "      <td>27.15</td>\n",
       "      <td>2</td>\n",
       "      <td>27.20</td>\n",
       "      <td>50</td>\n",
       "      <td>5.53</td>\n",
       "    </tr>\n",
       "    <tr>\n",
       "      <th>1109</th>\n",
       "      <td>9955</td>\n",
       "      <td>佳龍</td>\n",
       "      <td>3,500,357</td>\n",
       "      <td>1,896</td>\n",
       "      <td>73,194,724</td>\n",
       "      <td>20.10</td>\n",
       "      <td>21.50</td>\n",
       "      <td>20.10</td>\n",
       "      <td>20.95</td>\n",
       "      <td>&lt;p style= color:green&gt;-&lt;/p&gt;</td>\n",
       "      <td>1.05</td>\n",
       "      <td>20.90</td>\n",
       "      <td>29</td>\n",
       "      <td>20.95</td>\n",
       "      <td>28</td>\n",
       "      <td>130.94</td>\n",
       "    </tr>\n",
       "    <tr>\n",
       "      <th>1110</th>\n",
       "      <td>9958</td>\n",
       "      <td>世紀鋼</td>\n",
       "      <td>2,724,204</td>\n",
       "      <td>1,738</td>\n",
       "      <td>187,803,380</td>\n",
       "      <td>68.40</td>\n",
       "      <td>69.80</td>\n",
       "      <td>68.40</td>\n",
       "      <td>68.50</td>\n",
       "      <td>&lt;p style= color:red&gt;+&lt;/p&gt;</td>\n",
       "      <td>0.50</td>\n",
       "      <td>68.50</td>\n",
       "      <td>59</td>\n",
       "      <td>68.60</td>\n",
       "      <td>4</td>\n",
       "      <td>23.70</td>\n",
       "    </tr>\n",
       "  </tbody>\n",
       "</table>\n",
       "<p>1111 rows × 16 columns</p>\n",
       "</div>"
      ],
      "text/plain": [
       "      證券代號     證券名稱       成交股數   成交筆數         成交金額    開盤價    最高價    最低價  \\\n",
       "0     0050   元大台灣50  7,163,943  3,879  693,086,421  96.30  97.10  96.30   \n",
       "1     0051  元大中型100     39,300     26    1,375,250  34.71  35.06  34.71   \n",
       "2     0052     富邦科技    127,110     36    9,216,645  72.20  72.70  72.00   \n",
       "3     0053     元大電子     17,000      7      715,360  41.90  42.18  41.90   \n",
       "4     0054   元大台商50          0      0            0     --     --     --   \n",
       "...    ...      ...        ...    ...          ...    ...    ...    ...   \n",
       "1106  9944       新麗     85,999     65    1,534,031  17.70  18.00  17.70   \n",
       "1107  9945      潤泰新    967,122    630   43,112,974  44.25  44.75  44.25   \n",
       "1108  9946     三發地產  1,169,931    417   31,838,487  27.30  27.40  27.10   \n",
       "1109  9955       佳龍  3,500,357  1,896   73,194,724  20.10  21.50  20.10   \n",
       "1110  9958      世紀鋼  2,724,204  1,738  187,803,380  68.40  69.80  68.40   \n",
       "\n",
       "        收盤價                      漲跌(+/-)  漲跌價差 最後揭示買價 最後揭示買量 最後揭示賣價 最後揭示賣量  \\\n",
       "0     96.95    <p style= color:red>+</p>  1.30  96.95     20  97.00    234   \n",
       "1     34.95    <p style= color:red>+</p>  0.26  34.95     16  35.04      2   \n",
       "2     72.45    <p style= color:red>+</p>  1.20  72.50      2  72.65      1   \n",
       "3     42.18    <p style= color:red>+</p>  0.57  42.03     15  42.18      1   \n",
       "4        --                               0.00  24.35     20  24.51      3   \n",
       "...     ...                          ...   ...    ...    ...    ...    ...   \n",
       "1106  17.70    <p style= color:red>+</p>  0.05  17.70     26  17.85      2   \n",
       "1107  44.65    <p style= color:red>+</p>  0.55  44.60     22  44.65      7   \n",
       "1108  27.20    <p style= color:red>+</p>  0.20  27.15      2  27.20     50   \n",
       "1109  20.95  <p style= color:green>-</p>  1.05  20.90     29  20.95     28   \n",
       "1110  68.50    <p style= color:red>+</p>  0.50  68.50     59  68.60      4   \n",
       "\n",
       "         本益比  \n",
       "0       0.00  \n",
       "1       0.00  \n",
       "2       0.00  \n",
       "3       0.00  \n",
       "4       0.00  \n",
       "...      ...  \n",
       "1106    0.00  \n",
       "1107    4.12  \n",
       "1108    5.53  \n",
       "1109  130.94  \n",
       "1110   23.70  \n",
       "\n",
       "[1111 rows x 16 columns]"
      ]
     },
     "execution_count": 17,
     "metadata": {},
     "output_type": "execute_result"
    }
   ],
   "source": [
    "dfs"
   ]
  },
  {
   "cell_type": "code",
   "execution_count": null,
   "metadata": {},
   "outputs": [],
   "source": []
  }
 ],
 "metadata": {
  "kernelspec": {
   "display_name": "Python 3",
   "language": "python",
   "name": "python3"
  },
  "language_info": {
   "codemirror_mode": {
    "name": "ipython",
    "version": 3
   },
   "file_extension": ".py",
   "mimetype": "text/x-python",
   "name": "python",
   "nbconvert_exporter": "python",
   "pygments_lexer": "ipython3",
   "version": "3.8.1"
  }
 },
 "nbformat": 4,
 "nbformat_minor": 4
}
